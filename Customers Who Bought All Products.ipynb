{
 "cells": [
  {
   "cell_type": "markdown",
   "source": [
    "# Problem"
   ],
   "metadata": {
    "collapsed": false
   },
   "id": "83993a9b1241ba46"
  },
  {
   "cell_type": "code",
   "execution_count": null,
   "outputs": [],
   "source": [
    "Table: Customer\n",
    "\n",
    "+-------------+---------+\n",
    "| Column Name | Type    |\n",
    "+-------------+---------+\n",
    "| customer_id | int     |\n",
    "| product_key | int     |\n",
    "+-------------+---------+\n",
    "This table may contain duplicates rows. \n",
    "customer_id is not NULL.\n",
    "product_key is a foreign key (reference column) to Product table.\n",
    " \n",
    "\n",
    "Table: Product\n",
    "\n",
    "+-------------+---------+\n",
    "| Column Name | Type    |\n",
    "+-------------+---------+\n",
    "| product_key | int     |\n",
    "+-------------+---------+\n",
    "product_key is the primary key (column with unique values) for this table.\n",
    " \n",
    "\n",
    "Write a solution to report the customer ids from the Customer table that bought all the products in the Product table.\n",
    "\n",
    "Return the result table in any order.\n",
    "\n",
    "The result format is in the following example.\n",
    "\n",
    " \n",
    "\n",
    "Example 1:\n",
    "\n",
    "Input: \n",
    "Customer table:\n",
    "+-------------+-------------+\n",
    "| customer_id | product_key |\n",
    "+-------------+-------------+\n",
    "| 1           | 5           |\n",
    "| 2           | 6           |\n",
    "| 3           | 5           |\n",
    "| 3           | 6           |\n",
    "| 1           | 6           |\n",
    "+-------------+-------------+\n",
    "Product table:\n",
    "+-------------+\n",
    "| product_key |\n",
    "+-------------+\n",
    "| 5           |\n",
    "| 6           |\n",
    "+-------------+\n",
    "Output: \n",
    "+-------------+\n",
    "| customer_id |\n",
    "+-------------+\n",
    "| 1           |\n",
    "| 3           |\n",
    "+-------------+\n",
    "Explanation: \n",
    "The customers who bought all the products (5 and 6) are customers with IDs 1 and 3."
   ],
   "metadata": {
    "collapsed": false
   },
   "id": "44ba1044fef16504"
  },
  {
   "cell_type": "markdown",
   "source": [
    "# Solution"
   ],
   "metadata": {
    "collapsed": false
   },
   "id": "4f7af19931bab1d8"
  },
  {
   "cell_type": "code",
   "execution_count": null,
   "outputs": [],
   "source": [
    "select customer_id from customer group by customer_id\n",
    "having count(distinct product_key) = (select count(product_key) from product)"
   ],
   "metadata": {
    "collapsed": false
   },
   "id": "2ffef036cb7b5a86"
  }
 ],
 "metadata": {
  "kernelspec": {
   "display_name": "Python 3",
   "language": "python",
   "name": "python3"
  },
  "language_info": {
   "codemirror_mode": {
    "name": "ipython",
    "version": 2
   },
   "file_extension": ".py",
   "mimetype": "text/x-python",
   "name": "python",
   "nbconvert_exporter": "python",
   "pygments_lexer": "ipython2",
   "version": "2.7.6"
  }
 },
 "nbformat": 4,
 "nbformat_minor": 5
}
