{
 "cells": [
  {
   "cell_type": "markdown",
   "source": [
    "# Problem"
   ],
   "metadata": {
    "collapsed": false
   },
   "id": "6458f3c177776bd3"
  },
  {
   "cell_type": "code",
   "execution_count": null,
   "outputs": [],
   "source": [
    "Table: Products\n",
    "\n",
    "+---------------+---------+\n",
    "| Column Name   | Type    |\n",
    "+---------------+---------+\n",
    "| product_id    | int     |\n",
    "| new_price     | int     |\n",
    "| change_date   | date    |\n",
    "+---------------+---------+\n",
    "(product_id, change_date) is the primary key of this table.\n",
    "Each row of this table indicates that the price of some product was changed to a new price at some date.\n",
    " \n",
    "\n",
    "Write an SQL query to find the prices of all products on 2019-08-16. Assume the price of all products before any change is 10.\n",
    "\n",
    "Return the result table in any order.\n",
    "\n",
    "The query result format is in the following example.\n",
    "\n",
    " \n",
    "\n",
    "Example 1:\n",
    "\n",
    "Input: \n",
    "Products table:\n",
    "+------------+-----------+-------------+\n",
    "| product_id | new_price | change_date |\n",
    "+------------+-----------+-------------+\n",
    "| 1          | 20        | 2019-08-14  |\n",
    "| 2          | 50        | 2019-08-14  |\n",
    "| 1          | 30        | 2019-08-15  |\n",
    "| 1          | 35        | 2019-08-16  |\n",
    "| 2          | 65        | 2019-08-17  |\n",
    "| 3          | 20        | 2019-08-18  |\n",
    "+------------+-----------+-------------+\n",
    "Output: \n",
    "+------------+-------+\n",
    "| product_id | price |\n",
    "+------------+-------+\n",
    "| 2          | 50    |\n",
    "| 1          | 35    |\n",
    "| 3          | 10    |\n",
    "+------------+-------+"
   ],
   "metadata": {
    "collapsed": false
   },
   "id": "5437d52b8b3c99e6"
  },
  {
   "cell_type": "markdown",
   "source": [
    "# Solution -1"
   ],
   "metadata": {
    "collapsed": false
   },
   "id": "8bf9708eba6ec31c"
  },
  {
   "cell_type": "code",
   "execution_count": null,
   "outputs": [],
   "source": [
    "with t1 as(select *, dense_rank() over (partition by product_id order by change_date desc) as rankk \n",
    "from products where change_date <= '2019-08-16')\n",
    "select t1.product_id, t1.new_price as price from t1 where rankk=1 \n",
    "union\n",
    "select p.product_id, 10 as price from products p left join t1 \n",
    "on p.product_id=t1.product_id where t1.product_id is null "
   ],
   "metadata": {
    "collapsed": false
   },
   "id": "146d6923feb55f03"
  },
  {
   "cell_type": "markdown",
   "source": [
    "# Solution 2"
   ],
   "metadata": {
    "collapsed": false
   },
   "id": "ac62809f5a1c9555"
  },
  {
   "cell_type": "code",
   "execution_count": null,
   "outputs": [],
   "source": [
    "select product_id, 10 as price from products where product_id not in\n",
    "( select product_id from products where change_date<= '2019-08-16')\n",
    "union\n",
    "select product_id, new_price as price from products where (product_id,change_date) in \n",
    "(select product_id, max(change_date) from products where change_date<='2019-08-16' group by product_id) "
   ],
   "metadata": {
    "collapsed": false
   },
   "id": "7cc53cf27741c28c"
  }
 ],
 "metadata": {
  "kernelspec": {
   "display_name": "Python 3",
   "language": "python",
   "name": "python3"
  },
  "language_info": {
   "codemirror_mode": {
    "name": "ipython",
    "version": 2
   },
   "file_extension": ".py",
   "mimetype": "text/x-python",
   "name": "python",
   "nbconvert_exporter": "python",
   "pygments_lexer": "ipython2",
   "version": "2.7.6"
  }
 },
 "nbformat": 4,
 "nbformat_minor": 5
}
