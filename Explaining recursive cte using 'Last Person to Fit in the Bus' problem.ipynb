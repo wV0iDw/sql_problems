{
 "cells": [
  {
   "cell_type": "markdown",
   "source": [
    "# Problem"
   ],
   "metadata": {
    "collapsed": false
   },
   "id": "32b85e4269c0c00"
  },
  {
   "cell_type": "code",
   "execution_count": null,
   "outputs": [],
   "source": [
    "Table: Queue\n",
    "\n",
    "+-------------+---------+\n",
    "| Column Name | Type    |\n",
    "+-------------+---------+\n",
    "| person_id   | int     |\n",
    "| person_name | varchar |\n",
    "| weight      | int     |\n",
    "| turn        | int     |\n",
    "+-------------+---------+\n",
    "person_id is the primary key column for this table.\n",
    "This table has the information about all people waiting for a bus.\n",
    "The person_id and turn columns will contain all numbers from 1 to n, where n is the number of rows in the table.\n",
    "turn determines the order of which the people will board the bus, where turn=1 denotes the first person to board and turn=n denotes the last person to board.\n",
    "weight is the weight of the person in kilograms.\n",
    " \n",
    "\n",
    "There is a queue of people waiting to board a bus. However, the bus has a weight limit of 1000 kilograms, so there may be some people who cannot board.\n",
    "\n",
    "Write an SQL query to find the person_name of the last person that can fit on the bus without exceeding the weight limit. The test cases are generated such that the first person does not exceed the weight limit.\n",
    "\n",
    "The query result format is in the following example.\n",
    "\n",
    " \n",
    "\n",
    "Example 1:\n",
    "\n",
    "Input: \n",
    "Queue table:\n",
    "+-----------+-------------+--------+------+\n",
    "| person_id | person_name | weight | turn |\n",
    "+-----------+-------------+--------+------+\n",
    "| 5         | Alice       | 250    | 1    |\n",
    "| 4         | Bob         | 175    | 5    |\n",
    "| 3         | Alex        | 350    | 2    |\n",
    "| 6         | John Cena   | 400    | 3    |\n",
    "| 1         | Winston     | 500    | 6    |\n",
    "| 2         | Marie       | 200    | 4    |\n",
    "+-----------+-------------+--------+------+\n",
    "Output: \n",
    "+-------------+\n",
    "| person_name |\n",
    "+-------------+\n",
    "| John Cena   |\n",
    "+-------------+\n",
    "Explanation: The folowing table is ordered by the turn for simplicity.\n",
    "+------+----+-----------+--------+--------------+\n",
    "| Turn | ID | Name      | Weight | Total Weight |\n",
    "+------+----+-----------+--------+--------------+\n",
    "| 1    | 5  | Alice     | 250    | 250          |\n",
    "| 2    | 3  | Alex      | 350    | 600          |\n",
    "| 3    | 6  | John Cena | 400    | 1000         | (last person to board)\n",
    "| 4    | 2  | Marie     | 200    | 1200         | (cannot board)\n",
    "| 5    | 4  | Bob       | 175    | ___          |\n",
    "| 6    | 1  | Winston   | 500    | ___          |\n",
    "+------+----+-----------+--------+--------------+"
   ],
   "metadata": {
    "collapsed": false
   },
   "id": "ea731d7dc235b9a8"
  },
  {
   "cell_type": "markdown",
   "source": [
    "# Solution - 1  - Using Recursive Method"
   ],
   "metadata": {
    "collapsed": false
   },
   "id": "b4b4fab82f5dcbe4"
  },
  {
   "cell_type": "code",
   "execution_count": 3,
   "outputs": [
    {
     "ename": "SyntaxError",
     "evalue": "invalid syntax (2406740771.py, line 1)",
     "output_type": "error",
     "traceback": [
      "\u001B[0;36m  Cell \u001B[0;32mIn[3], line 1\u001B[0;36m\u001B[0m\n\u001B[0;31m    CREATE TABLE queue (\u001B[0m\n\u001B[0m           ^\u001B[0m\n\u001B[0;31mSyntaxError\u001B[0m\u001B[0;31m:\u001B[0m invalid syntax\n"
     ]
    }
   ],
   "source": [
    "CREATE TABLE queue (\n",
    "    person_id INT,\n",
    "    person_name VARCHAR(50),\n",
    "    weight INT,\n",
    "    turn INT\n",
    ");\n",
    "\n",
    "INSERT INTO queue (person_id, person_name, weight, turn)\n",
    "VALUES\n",
    "    (5, 'Alice', 250, 1),\n",
    "    (4, 'Bob', 175, 5),\n",
    "    (3, 'Alex', 350, 2),\n",
    "    (6, 'John Cena', 400, 3),\n",
    "    (1, 'Winston', 500, 6),\n",
    "    (2, 'Marie', 200, 4);\n",
    "   \n",
    "# Few points or step that'll help you to understand recursive cte and no-one till now explained it in that much depth anywhere.\n",
    "# So After experimenting multiple things I came to this conclusion that the most tough part about recursive is to understand the\n",
    "# how recursive members in recursive statement are defined and from what table and how are tables and resulting are forming in each recursion\n",
    "# So, keep in mind the alias that we'll assign to the recursive cte will be used in recursive statement inside it and that alias will represent\n",
    "# the results and conditions of hhe anchor statement. For example: I experimented by changing aliases in recursive statement in below query.\n",
    "# Like changing the q.person to t1.person OR changing q.turn>1 condition to t1.turn>1 but all these experiments results in the hardcore result \n",
    "# from anchor statement as we have decided in the anchor statement what will be the first row or record that we'll start with.\n",
    "# Again for example t1.person will return the single outcome - record of \"Alice\" and same goes for t1.turn\n",
    "# Now the 2nd table that we'll use in recursive statement will be seperated from previous 2 tables (1 of anchor statement and 1 cte itself)\n",
    "# that 3rd table will be actually responsible for recursion or in laymen terms - for jumping from 1 record to the next record\n",
    "# for example: q.weight will be responsible for jumping on the next weight and add it to the previous one. Similarly as t1.turn has a definite value = 1\n",
    "# therefore we need to add 1 in each recursion to keep it up with jumping q.turn\n",
    "   \n",
    "with recursive t1 as \n",
    "(select q.person_name, q.weight as till_wgt, q.turn \n",
    "from queue q where turn=1\n",
    "union all\n",
    "select q.person_name, q.weight+t1.till_wgt as till_wgt, t1.turn+1 as turn \n",
    "from t1 join queue q on q.turn=t1.turn+1 where q.turn>1)\n",
    "select person_name from t1 where till_wgt in (select max(till_wgt) from t1 where till_wgt<=1000 limit 1) \n",
    "\n"
   ],
   "metadata": {
    "collapsed": false,
    "ExecuteTime": {
     "end_time": "2023-08-29T11:29:47.953471666Z",
     "start_time": "2023-08-29T11:29:47.907112450Z"
    }
   },
   "id": "cae0adb8a866d916"
  }
 ],
 "metadata": {
  "kernelspec": {
   "display_name": "Python 3",
   "language": "python",
   "name": "python3"
  },
  "language_info": {
   "codemirror_mode": {
    "name": "ipython",
    "version": 2
   },
   "file_extension": ".py",
   "mimetype": "text/x-python",
   "name": "python",
   "nbconvert_exporter": "python",
   "pygments_lexer": "ipython2",
   "version": "2.7.6"
  }
 },
 "nbformat": 4,
 "nbformat_minor": 5
}
