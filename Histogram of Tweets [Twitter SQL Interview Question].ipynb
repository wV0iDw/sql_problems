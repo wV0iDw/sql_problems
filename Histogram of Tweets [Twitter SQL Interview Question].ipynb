{
 "cells": [
  {
   "cell_type": "markdown",
   "source": [
    "# Problem"
   ],
   "metadata": {
    "collapsed": false
   },
   "id": "4281fecddf4562ed"
  },
  {
   "cell_type": "code",
   "execution_count": null,
   "id": "initial_id",
   "metadata": {
    "collapsed": true
   },
   "outputs": [],
   "source": [
    "Assume you're given a table Twitter tweet data, write a query to obtain a histogram of tweets posted per user in 2022. Output the tweet count per user as the bucket and the number of Twitter users who fall into that bucket.\n",
    "\n",
    "In other words, group the users by the number of tweets they posted in 2022 and count the number of users in each group.\n",
    "\n",
    "tweets \n",
    "Table:\n",
    "Column Name\tType\n",
    "tweet_id\tinteger\n",
    "user_id\tinteger\n",
    "msg\tstring\n",
    "tweet_date\ttimestamp\n",
    "tweets \n",
    "\n",
    "Example\n",
    "\n",
    "Input:\n",
    "tweet_id\tuser_id\tmsg\ttweet_date\n",
    "214252\t111\tAm considering taking Tesla private at $420. Funding secured.\t12/30/2021 00:00:00\n",
    "739252\t111\tDespite the constant negative press covfefe\t01/01/2022 00:00:00\n",
    "846402\t111\tFollowing @NickSinghTech on Twitter changed my life!\t02/14/2022 00:00:00\n",
    "241425\t254\tIf the salary is so competitive why won’t you tell me what it is?\t03/01/2022 00:00:00\n",
    "231574\t148\tI no longer have a manager. I can't be managed\t03/23/2022 00:00:00\n",
    "\n",
    "Example Output:\n",
    "tweet_bucket\tusers_num\n",
    "1\t2\n",
    "2\t1\n",
    "\n",
    "Explanation:\n",
    "Based on the example output, there are two users who posted only one tweet in 2022, and one user who posted two tweets in 2022. The query groups the users by the number of tweets they posted and displays the number of users in each group."
   ]
  },
  {
   "cell_type": "markdown",
   "source": [
    "# Solution"
   ],
   "metadata": {
    "collapsed": false
   },
   "id": "1218a37b3824aeeb"
  },
  {
   "cell_type": "code",
   "execution_count": null,
   "outputs": [],
   "source": [
    "SELECT DISTINCT t.c tweet_bucket, COUNT(t.c) user_num from \n",
    "(SELECT user_id, COUNT(*) c FROM tweets WHERE EXTRACT(YEAR FROM tweet_date)=2022 GROUP BY user_id) t \n",
    "GROUP BY t.c ORDER BY t.c"
   ],
   "metadata": {
    "collapsed": false
   },
   "id": "6358902b9a12ed6d"
  }
 ],
 "metadata": {
  "kernelspec": {
   "display_name": "Python 3",
   "language": "python",
   "name": "python3"
  },
  "language_info": {
   "codemirror_mode": {
    "name": "ipython",
    "version": 2
   },
   "file_extension": ".py",
   "mimetype": "text/x-python",
   "name": "python",
   "nbconvert_exporter": "python",
   "pygments_lexer": "ipython2",
   "version": "2.7.6"
  }
 },
 "nbformat": 4,
 "nbformat_minor": 5
}
